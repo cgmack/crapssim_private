{
 "cells": [
  {
   "cell_type": "code",
   "execution_count": 1,
   "id": "203871e9",
   "metadata": {},
   "outputs": [],
   "source": [
    "import crapssim as craps \n",
    "from tmd import TMD"
   ]
  },
  {
   "cell_type": "code",
   "execution_count": 2,
   "id": "1448f291",
   "metadata": {},
   "outputs": [
    {
     "name": "stdout",
     "output_type": "stream",
     "text": [
      "\n",
      "============================\n",
      "== HAPPY PATH DEMO \n"
     ]
    }
   ],
   "source": [
    "\n",
    "# from crapssim.table import Player\n",
    "# from crapssim.bet import PassLine, DontPass, Place, Come, DontCome, Odds\n",
    "# from crapssim.strategy.tools import Strategy\n",
    "# from crapssim.strategy.single_bet import BetPassLine, BetCome, BetDontCome, StrategyMode\n",
    "# from crapssim.strategy.odds import PassLineOddsMultiplier, ComeOddsMultiplier, DontComeOddsMultiplier\n",
    "# from crapssim.strategy.tools import AddIfTrue\n",
    "# import typing\n",
    "\n",
    "print(\"\\n============================\")\n",
    "print(\"== HAPPY PATH DEMO \")\n",
    "table = craps.Table()\n",
    "your_strat = TMD(15, 4, 5, 3, True) # base_amount, dc_multiplier, max_loss_progression, odds_multiplier, verbose:\n",
    "table.add_player(bankroll=3000, strategy=your_strat, name=\"Chris\")\n",
    "table.fixed_run([(4,4),         # Establish PASSLINE on 8\n",
    "                 (2,2),         # Establish DC on 4\n",
    "                 (4,1),         # Establish COME on 5\n",
    "                 (5,1),         # Establish COME on 6\n",
    "                 (5,4),         # Establish COME on 9\n",
    "                 (5,5),         # Establish COME on 10\n",
    "\n",
    "                 (4,1),         # Win COME on 5\n",
    "                 (5,1),         # Win COME on 6\n",
    "                 (5,4),         # Win COME on 9\n",
    "                 (5,5),         # Win COME on 10\n",
    "                 (4,4),         # Win PASSLINE 4\n",
    "\n",
    "                 (4,3)], verbose=False)        # PL and DC wins on 7"
   ]
  },
  {
   "cell_type": "code",
   "execution_count": null,
   "id": "7e2eb827",
   "metadata": {},
   "outputs": [],
   "source": []
  }
 ],
 "metadata": {
  "kernelspec": {
   "display_name": ".venv",
   "language": "python",
   "name": "python3"
  },
  "language_info": {
   "codemirror_mode": {
    "name": "ipython",
    "version": 3
   },
   "file_extension": ".py",
   "mimetype": "text/x-python",
   "name": "python",
   "nbconvert_exporter": "python",
   "pygments_lexer": "ipython3",
   "version": "3.12.1"
  }
 },
 "nbformat": 4,
 "nbformat_minor": 5
}
